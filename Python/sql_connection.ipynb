{
 "cells": [
  {
   "cell_type": "code",
   "execution_count": 2,
   "id": "9a321451-cab8-4215-bcc0-766064e094d2",
   "metadata": {},
   "outputs": [
    {
     "name": "stdout",
     "output_type": "stream",
     "text": [
      "+----------+---+------+-------------+-----------+------------+--------------------+------------+--------------------+-------------+-------+-------+--------------+----------+-----------------+-------+-----------+-------------------+--------+---------------------+------------------------+-------------+---------+-------+------+--------------+----+-------------+-----------------+\n",
      "|patient_id|age|gender|air_pollution|alcohol_use|dust_allergy|occupational_hazards|genetic_risk|chronic_lung_disease|balanced_diet|obesity|smoking|passive_smoker|chest_pain|coughing_of_blood|fatigue|weight_loss|shortness_of_breath|wheezing|swallowing_difficulty|clubbing_of_finger_nails|frequent_cold|dry_cough|snoring| level|treatment_type|cost|survival_rate|treatment_outcome|\n",
      "+----------+---+------+-------------+-----------+------------+--------------------+------------+--------------------+-------------+-------+-------+--------------+----------+-----------------+-------+-----------+-------------------+--------+---------------------+------------------------+-------------+---------+-------+------+--------------+----+-------------+-----------------+\n",
      "|        P1| 33|     1|            2|          4|           5|                   4|           3|                   2|            2|      4|      3|             2|         2|                4|      3|          4|                  2|       2|                    3|                       1|            2|        3|      4|  High|     radiation|3000|         0.75|       Successful|\n",
      "|       P10| 17|     1|            3|          1|           5|                   3|           4|                   2|            2|      2|      2|             4|         2|                3|      1|          3|                  7|       8|                    6|                       2|            1|        7|      2|Medium|  chemotherapy|5000|          0.5|         Moderate|\n",
      "|      P100| 35|     1|            4|          5|           6|                   5|           5|                   4|            6|      7|      2|             3|         4|                8|      8|          7|                  9|       2|                    1|                       4|            6|        7|      2|  High|  chemotherapy|5000|         0.75|       Successful|\n",
      "|     P1000| 37|     1|            7|          7|           7|                   7|           6|                   7|            7|      7|      7|             7|         7|                8|      4|          2|                  3|       1|                    4|                       5|            6|        7|      5|  High|     radiation|3000|         0.75|       Successful|\n",
      "|      P101| 46|     1|            6|          8|           7|                   7|           7|                   6|            7|      7|      8|             7|         7|                9|      3|          2|                  4|       1|                    4|                       2|            4|        2|      3|  High|  chemotherapy|5000|         0.75|       Successful|\n",
      "+----------+---+------+-------------+-----------+------------+--------------------+------------+--------------------+-------------+-------+-------+--------------+----------+-----------------+-------+-----------+-------------------+--------+---------------------+------------------------+-------------+---------+-------+------+--------------+----+-------------+-----------------+\n",
      "only showing top 5 rows\n",
      "\n"
     ]
    }
   ],
   "source": [
    "from pyspark.sql import SparkSession\n",
    "\n",
    "# Use a raw string to handle backslashes in Windows paths\n",
    "jdbc_jar_path = r\"D:\\Programming\\jdbc6\\sqljdbc_6.0\\enu\\jre8\\sqljdbc42.jar\"\n",
    "\n",
    "spark = SparkSession.builder \\\n",
    "    .appName(\"SQLServerConnection\") \\\n",
    "    .config(\"spark.jars\", jdbc_jar_path) \\\n",
    "    .getOrCreate()\n",
    "\n",
    "# Connection details with trustServerCertificate=true\n",
    "jdbc_url = \"jdbc:sqlserver://DESKTOP-FCEDQJG:1433;databaseName=cancer;trustServerCertificate=true\"\n",
    "table = \"patient_data\"\n",
    "\n",
    "# Replace with your SQL Server credentials\n",
    "df = spark.read.format(\"jdbc\").options(\n",
    "    url=jdbc_url,\n",
    "    driver=\"com.microsoft.sqlserver.jdbc.SQLServerDriver\",\n",
    "    dbtable=table,\n",
    "    user=\"alialkady\",\n",
    "    password=\"Aa22540444\"\n",
    ").load()\n",
    "\n",
    "# Display the data\n",
    "df.show(5)\n",
    "\n",
    "# Close Spark session\n",
    "#spark.stop()\n"
   ]
  },
  {
   "cell_type": "code",
   "execution_count": null,
   "id": "dc6c13d9-8c24-4a6b-b62d-d75b03c2b785",
   "metadata": {},
   "outputs": [],
   "source": []
  }
 ],
 "metadata": {
  "kernelspec": {
   "display_name": "Python 3 (ipykernel)",
   "language": "python",
   "name": "python3"
  },
  "language_info": {
   "codemirror_mode": {
    "name": "ipython",
    "version": 3
   },
   "file_extension": ".py",
   "mimetype": "text/x-python",
   "name": "python",
   "nbconvert_exporter": "python",
   "pygments_lexer": "ipython3",
   "version": "3.10.11"
  }
 },
 "nbformat": 4,
 "nbformat_minor": 5
}
